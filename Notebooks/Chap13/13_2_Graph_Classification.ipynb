{
 "cells": [
  {
   "cell_type": "markdown",
   "metadata": {
    "colab_type": "text",
    "id": "view-in-github"
   },
   "source": [
    "<a href=\"https://colab.research.google.com/github/udlbook/udlbook/blob/main/Notebooks/Chap13/13_2_Graph_Classification.ipynb\" target=\"_parent\"><img src=\"https://colab.research.google.com/assets/colab-badge.svg\" alt=\"Open In Colab\"/></a>"
   ]
  },
  {
   "cell_type": "markdown",
   "metadata": {
    "id": "t9vk9Elugvmi"
   },
   "source": [
    "# **Notebook 13.2: Graph classification**\n",
    "\n",
    "This notebook investigates representing graphs with matrices as illustrated in figure 13.4 from the book.\n",
    "\n",
    "~Work through the cells below, running each cell in turn. In various places you will see the words \"TO DO\". Follow the instructions at these places and make predictions about what is going to happen or write code to complete the functions.~ DONE\n",
    "\n",
    "Contact me at vcasellesb@uoc.edu if you find any mistakes or have any suggestions."
   ]
  },
  {
   "cell_type": "code",
   "execution_count": 1,
   "metadata": {
    "id": "OLComQyvCIJ7"
   },
   "outputs": [],
   "source": [
    "import numpy as np\n",
    "import matplotlib.pyplot as plt\n",
    "import networkx as nx"
   ]
  },
  {
   "cell_type": "code",
   "execution_count": 6,
   "metadata": {},
   "outputs": [],
   "source": [
    "## Copied from notebook 13.1, this will help me check that I've correctly created the adjacency matrices\n",
    "\n",
    "def draw_graph_structure(adjacency_matrix):\n",
    "\n",
    "    G = nx.Graph()\n",
    "    n_node = adjacency_matrix.shape[0]\n",
    "    for i in range(n_node):\n",
    "        for j in range(i):\n",
    "            if adjacency_matrix[i,j]:\n",
    "                G.add_edge(i,j)\n",
    "\n",
    "    nx.draw(G, nx.spring_layout(G, seed = 0), with_labels=True)\n",
    "    plt.show()"
   ]
  },
  {
   "cell_type": "markdown",
   "metadata": {
    "id": "UNleESc7k5uB"
   },
   "source": [
    "Let's build a model that maps a chemical structure to a binary decision.  This model might be used to predict whether a chemical is liquid at room temperature or not.  We'll start by drawing the chemical structure."
   ]
  },
  {
   "cell_type": "code",
   "execution_count": 7,
   "metadata": {
    "id": "TIrihEw-7DRV"
   },
   "outputs": [
    {
     "data": {
      "image/png": "[encoded data removed]",
      "text/plain": [
       "<Figure size 640x480 with 1 Axes>"
      ]
     },
     "metadata": {},
     "output_type": "display_data"
    }
   ],
   "source": [
    "# Define a graph that represents the chemical structure of ethanol and draw it\n",
    "# Each node is labelled with the node number and the element (carbon, hydrogen, oxygen)\n",
    "G = nx.Graph()\n",
    "G.add_edge('0:H','2:C')\n",
    "G.add_edge('1:H','2:C')\n",
    "G.add_edge('3:H','2:C')\n",
    "G.add_edge('2:C','5:C')\n",
    "G.add_edge('4:H','5:C')\n",
    "G.add_edge('6:H','5:C')\n",
    "G.add_edge('7:O','5:C')\n",
    "G.add_edge('8:H','7:O')\n",
    "nx.draw(G, nx.spring_layout(G, seed = 0), with_labels=True, node_size=600)\n",
    "plt.show()"
   ]
  },
  {
   "cell_type": "code",
   "execution_count": 11,
   "metadata": {
    "id": "gKBD5JsPfrkA"
   },
   "outputs": [
    {
     "name": "stdout",
     "output_type": "stream",
     "text": [
      "[[0 0 1 0 0 0 0 0 0]\n",
      " [0 0 1 0 0 0 0 0 0]\n",
      " [1 1 0 1 0 1 0 0 0]\n",
      " [0 0 1 0 0 0 0 0 0]\n",
      " [0 0 0 0 0 1 0 0 0]\n",
      " [0 0 1 0 1 0 1 1 0]\n",
      " [0 0 0 0 0 1 0 0 0]\n",
      " [0 0 0 0 0 1 0 0 1]\n",
      " [0 0 0 0 0 0 0 1 0]]\n",
      "[[1. 1. 0. 1. 1. 0. 1. 0. 1.]\n",
      " [0. 0. 0. 0. 0. 0. 0. 0. 0.]\n",
      " [0. 0. 0. 0. 0. 0. 0. 0. 0.]\n",
      " [0. 0. 0. 0. 0. 0. 0. 0. 0.]\n",
      " [0. 0. 0. 0. 0. 0. 0. 0. 0.]\n",
      " [0. 0. 1. 0. 0. 1. 0. 0. 0.]\n",
      " [0. 0. 0. 0. 0. 0. 0. 0. 0.]\n",
      " [0. 0. 0. 0. 0. 0. 0. 1. 0.]\n",
      " [0. 0. 0. 0. 0. 0. 0. 0. 0.]\n",
      " [0. 0. 0. 0. 0. 0. 0. 0. 0.]\n",
      " [0. 0. 0. 0. 0. 0. 0. 0. 0.]\n",
      " [0. 0. 0. 0. 0. 0. 0. 0. 0.]\n",
      " [0. 0. 0. 0. 0. 0. 0. 0. 0.]\n",
      " [0. 0. 0. 0. 0. 0. 0. 0. 0.]\n",
      " [0. 0. 0. 0. 0. 0. 0. 0. 0.]]\n"
     ]
    }
   ],
   "source": [
    "# Define adjacency matrix\n",
    "# TODO -- Define the adjacency matrix for this chemical\n",
    "# Replace this line\n",
    "A = np.array([[0, 0, 1, 0, 0, 0, 0, 0, 0],\n",
    "              [0, 0, 1, 0, 0, 0, 0, 0, 0],\n",
    "              [1, 1, 0, 1, 0, 1, 0, 0, 0],\n",
    "              [0, 0, 1, 0, 0, 0, 0, 0, 0],\n",
    "              [0, 0, 0, 0, 0, 1, 0, 0, 0],\n",
    "              [0, 0, 1, 0, 1, 0, 1, 1, 0],\n",
    "              [0, 0, 0, 0, 0, 1, 0, 0, 0],\n",
    "              [0, 0, 0, 0, 0, 1, 0, 0, 1],\n",
    "              [0, 0, 0, 0, 0, 0, 0, 1, 0]]);\n",
    "\n",
    "\n",
    "print(A)\n",
    "\n",
    "# TODO -- Define node matrix\n",
    "# There will be 9 nodes and 118 possible chemical elements\n",
    "# so we'll define a 9x118 matrix.  Each column represents one\n",
    "# node and is a one-hot vector (i.e. all zeros, except a single one at the\n",
    "# chemical number of the element).\n",
    "# Chemical numbers:  Hydrogen-->1, Carbon-->6,  Oxygen-->8\n",
    "# Since the indices start at 0, we'll set element 0 to 1 for hydrogen, element 5\n",
    "# to one for carbon, and element 7 to one for oxygen\n",
    "# Replace this line:\n",
    "X = np.zeros((118,9))\n",
    "\n",
    "X[0][0]=1; X[0][1]=1; X[5][2]=1; X[0][3]=1; X[0][4]=1; \n",
    "X[5][5]=1; X[0][6]=1; X[7][7]=1; X[0][8]=1\n",
    "\n",
    "\n",
    "# Print the top 15 rows of the data matrix\n",
    "print(X[0:15,:])"
   ]
  },
  {
   "cell_type": "markdown",
   "metadata": {
    "id": "40FLjNIcpHa9"
   },
   "source": [
    "Now let's define a network with four layers that maps this graph to a binary value, using the formulation in equation 13.11."
   ]
  },
  {
   "cell_type": "code",
   "execution_count": 12,
   "metadata": {
    "id": "52IFREpepHE4"
   },
   "outputs": [],
   "source": [
    "# We'll need these helper functions\n",
    "\n",
    "# Define the Rectified Linear Unit (ReLU) function\n",
    "def ReLU(preactivation):\n",
    "  activation = preactivation.clip(0.0)\n",
    "  return activation\n",
    "\n",
    "# Define the logistic sigmoid function\n",
    "def sigmoid(x):\n",
    "  return 1.0/(1.0+np.exp(-x))"
   ]
  },
  {
   "cell_type": "code",
   "execution_count": 13,
   "metadata": {
    "id": "ag0YdEgnpApK"
   },
   "outputs": [],
   "source": [
    "# Our network will have K=3 hidden layers, and will use a dimension of D=200.\n",
    "K = 3; D = 200\n",
    "# Set seed so we always get the same random numbers\n",
    "np.random.seed(1)\n",
    "# Let's initialize the parameter matrices randomly with He initialization\n",
    "Omega0 = np.random.normal(size=(D, 118)) * 2.0 / D\n",
    "beta0 = np.random.normal(size=(D,1)) * 2.0 / D\n",
    "Omega1 = np.random.normal(size=(D, D)) * 2.0 / D\n",
    "beta1 = np.random.normal(size=(D,1)) * 2.0 / D\n",
    "Omega2 = np.random.normal(size=(D, D)) * 2.0 / D\n",
    "beta2 = np.random.normal(size=(D,1)) * 2.0 / D\n",
    "omega3 = np.random.normal(size=(1, D))\n",
    "beta3 = np.random.normal(size=(1,1))"
   ]
  },
  {
   "cell_type": "code",
   "execution_count": 15,
   "metadata": {
    "id": "RQuTMc2WrsU3"
   },
   "outputs": [],
   "source": [
    "def graph_neural_network(A,X, Omega0, beta0, Omega1, beta1, Omega2, beta2, omega3, beta3):\n",
    "  # Define this network according to equation 13.11 from the book\n",
    "  # Replace this line\n",
    "  N = A.shape[0]\n",
    "\n",
    "  h1 = beta0.dot(np.ones((N,1)).T) +  Omega0.dot(X).dot(A + np.eye(N))\n",
    "  h1 = ReLU(h1)\n",
    "  h2 = beta1.dot(np.ones((N,1)).T) + Omega1.dot(h1).dot(A + np.eye(N))\n",
    "  h2 = ReLU(h2)\n",
    "  h3 = beta2.dot(np.ones((N,1)).T) + Omega2.dot(h2).dot(A + np.eye(N))\n",
    "  h3 = ReLU(h3)\n",
    "  f = beta3 + omega3.dot(h3.dot(np.ones((N,1))/N))\n",
    "\n",
    "  return sigmoid(f);"
   ]
  },
  {
   "cell_type": "code",
   "execution_count": 16,
   "metadata": {
    "id": "X7gYgOu6uIAt"
   },
   "outputs": [
    {
     "name": "stdout",
     "output_type": "stream",
     "text": [
      "Your value is 0.310843:  True value of f: 0.310843\n"
     ]
    }
   ],
   "source": [
    "# Let's test this network\n",
    "f = graph_neural_network(A,X, Omega0, beta0, Omega1, beta1, Omega2, beta2, omega3, beta3)\n",
    "print(\"Your value is %3f: \"%(f[0,0]), \"True value of f: 0.310843\")"
   ]
  },
  {
   "cell_type": "code",
   "execution_count": 17,
   "metadata": {
    "id": "F0zc3U_UuR5K"
   },
   "outputs": [
    {
     "name": "stdout",
     "output_type": "stream",
     "text": [
      "Your value is 0.310843:  True value of f: 0.310843\n"
     ]
    }
   ],
   "source": [
    "# Let's check that permuting the indices of the graph doesn't change\n",
    "# the output of the network\n",
    "# Define a permutation matrix\n",
    "P = np.array([[0,1,0,0,0,0,0,0,0],\n",
    "              [0,0,0,0,1,0,0,0,0],\n",
    "              [0,0,0,0,0,1,0,0,0],\n",
    "              [0,0,0,0,0,0,0,0,1],\n",
    "              [1,0,0,0,0,0,0,0,0],\n",
    "              [0,0,1,0,0,0,0,0,0],\n",
    "              [0,0,0,1,0,0,0,0,0],\n",
    "              [0,0,0,0,0,0,0,1,0],\n",
    "              [0,0,0,0,0,0,1,0,0]]);\n",
    "\n",
    "# TODO -- Use this matrix to permute the adjacency matrix A and node matrix X\n",
    "# Replace these lines\n",
    "A_permuted = P.T.dot(A).dot(P)\n",
    "X_permuted = X.dot(P)\n",
    "\n",
    "f = graph_neural_network(A_permuted,X_permuted, Omega0, beta0, Omega1, beta1, Omega2, beta2, omega3, beta3)\n",
    "print(\"Your value is %3f: \"%(f[0,0]), \"True value of f: 0.310843\")"
   ]
  },
  {
   "cell_type": "markdown",
   "metadata": {
    "id": "l44vHi50zGqY"
   },
   "source": [
    "TODO -- encode the adjacency matrix and node matrix for propanol and run the network again.  Show that the network still runs even though the size of the input graph is different.\n",
    "\n",
    "Propanol structure can be found [here](https://upload.wikimedia.org/wikipedia/commons/b/b8/Propanol_flat_structure.png)."
   ]
  },
  {
   "cell_type": "code",
   "execution_count": 18,
   "metadata": {},
   "outputs": [
    {
     "data": {
      "image/png": "[encoded data removed]",
      "text/plain": [
       "<Figure size 640x480 with 1 Axes>"
      ]
     },
     "metadata": {},
     "output_type": "display_data"
    },
    {
     "name": "stdout",
     "output_type": "stream",
     "text": [
      "[[1. 0. 1. 1. 0. 1. 1. 0. 1. 1. 0. 1.]\n",
      " [0. 0. 0. 0. 0. 0. 0. 0. 0. 0. 0. 0.]\n",
      " [0. 0. 0. 0. 0. 0. 0. 0. 0. 0. 0. 0.]\n",
      " [0. 0. 0. 0. 0. 0. 0. 0. 0. 0. 0. 0.]\n",
      " [0. 0. 0. 0. 0. 0. 0. 0. 0. 0. 0. 0.]\n",
      " [0. 1. 0. 0. 1. 0. 0. 1. 0. 0. 0. 0.]\n",
      " [0. 0. 0. 0. 0. 0. 0. 0. 0. 0. 0. 0.]\n",
      " [0. 0. 0. 0. 0. 0. 0. 0. 0. 0. 1. 0.]\n",
      " [0. 0. 0. 0. 0. 0. 0. 0. 0. 0. 0. 0.]\n",
      " [0. 0. 0. 0. 0. 0. 0. 0. 0. 0. 0. 0.]\n",
      " [0. 0. 0. 0. 0. 0. 0. 0. 0. 0. 0. 0.]\n",
      " [0. 0. 0. 0. 0. 0. 0. 0. 0. 0. 0. 0.]\n",
      " [0. 0. 0. 0. 0. 0. 0. 0. 0. 0. 0. 0.]\n",
      " [0. 0. 0. 0. 0. 0. 0. 0. 0. 0. 0. 0.]\n",
      " [0. 0. 0. 0. 0. 0. 0. 0. 0. 0. 0. 0.]]\n",
      "We see that the same network with propanol structure runs the same \n",
      "with a value of: 0.311206 \n"
     ]
    }
   ],
   "source": [
    "## Propanol Adjacency matrix\n",
    "Apropos = np.array([[0, 1, 0, 0, 0, 0, 0, 0, 0 ,0, 0, 0],\n",
    "              [1, 0, 1, 1, 0, 0, 0, 0, 0, 0, 0, 0],\n",
    "              [0, 1, 0, 0, 0, 0, 0, 0, 0, 0, 0, 0],\n",
    "              [0, 1, 0, 0, 0, 0, 0, 0, 0, 0, 0, 0],\n",
    "              [0, 1, 0, 0, 0, 1, 1, 1, 0, 0, 0, 0],\n",
    "              [0, 0, 0, 0, 1, 0, 0, 0, 0, 0, 0, 0],\n",
    "              [0, 0, 0, 0, 1, 0, 0, 0, 0, 0, 0, 0],\n",
    "              [0, 0, 0, 0, 1, 0, 0, 0, 1, 1, 1, 0],\n",
    "              [0, 0, 0, 0, 0, 0, 0, 1, 0, 0, 0, 0],\n",
    "              [0, 0, 0, 0, 0, 0, 0, 1, 0, 0, 0, 0],\n",
    "              [0, 0, 0, 0, 0, 0, 0, 1, 0, 0, 0, 1],\n",
    "              [0, 0, 0, 0, 0, 0, 0, 0, 0, 0, 1, 0]]);\n",
    "\n",
    "# let's plot the adjacency matrix\n",
    "draw_graph_structure(Apropos) # we've done it right\n",
    "\n",
    "## Propanol node embedding matrix\n",
    "Xpropos = np.zeros((118,12))\n",
    "\n",
    "Xpropos[0][0]=1; Xpropos[5][1]=1; Xpropos[0][2]=1; Xpropos[0][3]=1; \n",
    "Xpropos[5][4]=1; Xpropos[0][5]=1; Xpropos[0][6]=1; Xpropos[5][7]=1; \n",
    "Xpropos[0][8]=1; Xpropos[0][9]=1; Xpropos[7][10]=1; Xpropos[0][11]=1\n",
    "\n",
    "\n",
    "print(Xpropos[0:15, :]) # we show first 15 rows\n",
    "\n",
    "\n",
    "# run network with new data\n",
    "f = graph_neural_network(Apropos,Xpropos, Omega0, beta0, \n",
    "                         Omega1, beta1, Omega2, beta2, omega3, beta3)\n",
    "\n",
    "print(f'''We see that the same network with propanol structure runs the same \n",
    "with a value of: %3f '''%(f[0,0]))"
   ]
  }
 ],
 "metadata": {
  "colab": {
   "authorship_tag": "ABX9TyOMSGUFWT+YN0fwYHpMmHJM",
   "include_colab_link": true,
   "provenance": []
  },
  "kernelspec": {
   "display_name": "Python 3 (ipykernel)",
   "language": "python",
   "name": "python3"
  },
  "language_info": {
   "codemirror_mode": {
    "name": "ipython",
    "version": 3
   },
   "file_extension": ".py",
   "mimetype": "text/x-python",
   "name": "python",
   "nbconvert_exporter": "python",
   "pygments_lexer": "ipython3",
   "version": "3.9.13"
  }
 },
 "nbformat": 4,
 "nbformat_minor": 1
}
